{
 "cells": [
  {
   "cell_type": "code",
   "execution_count": 3,
   "id": "d389f0ca",
   "metadata": {},
   "outputs": [
    {
     "data": {
      "text/html": [
       "<div>\n",
       "<style scoped>\n",
       "    .dataframe tbody tr th:only-of-type {\n",
       "        vertical-align: middle;\n",
       "    }\n",
       "\n",
       "    .dataframe tbody tr th {\n",
       "        vertical-align: top;\n",
       "    }\n",
       "\n",
       "    .dataframe thead th {\n",
       "        text-align: right;\n",
       "    }\n",
       "</style>\n",
       "<table border=\"1\" class=\"dataframe\">\n",
       "  <thead>\n",
       "    <tr style=\"text-align: right;\">\n",
       "      <th></th>\n",
       "      <th>waferMap</th>\n",
       "      <th>failureType</th>\n",
       "    </tr>\n",
       "  </thead>\n",
       "  <tbody>\n",
       "    <tr>\n",
       "      <th>0</th>\n",
       "      <td>[[0, 0, 0, 0, 0, 0, 0, 0, 0, 0, 0, 0, 0, 0, 0,...</td>\n",
       "      <td>Donut</td>\n",
       "    </tr>\n",
       "    <tr>\n",
       "      <th>1</th>\n",
       "      <td>[[0, 0, 0, 0, 0, 0, 0, 0, 0, 0, 0, 0, 0, 0, 0,...</td>\n",
       "      <td>Donut</td>\n",
       "    </tr>\n",
       "    <tr>\n",
       "      <th>2</th>\n",
       "      <td>[[0, 0, 0, 0, 0, 0, 0, 0, 0, 0, 0, 0, 0, 0, 0,...</td>\n",
       "      <td>Donut</td>\n",
       "    </tr>\n",
       "    <tr>\n",
       "      <th>3</th>\n",
       "      <td>[[0, 0, 0, 0, 0, 0, 0, 0, 0, 0, 0, 0, 0, 0, 0,...</td>\n",
       "      <td>Donut</td>\n",
       "    </tr>\n",
       "    <tr>\n",
       "      <th>4</th>\n",
       "      <td>[[0, 0, 0, 0, 0, 0, 0, 0, 0, 0, 0, 0, 0, 0, 0,...</td>\n",
       "      <td>Donut</td>\n",
       "    </tr>\n",
       "  </tbody>\n",
       "</table>\n",
       "</div>"
      ],
      "text/plain": [
       "                                            waferMap failureType\n",
       "0  [[0, 0, 0, 0, 0, 0, 0, 0, 0, 0, 0, 0, 0, 0, 0,...       Donut\n",
       "1  [[0, 0, 0, 0, 0, 0, 0, 0, 0, 0, 0, 0, 0, 0, 0,...       Donut\n",
       "2  [[0, 0, 0, 0, 0, 0, 0, 0, 0, 0, 0, 0, 0, 0, 0,...       Donut\n",
       "3  [[0, 0, 0, 0, 0, 0, 0, 0, 0, 0, 0, 0, 0, 0, 0,...       Donut\n",
       "4  [[0, 0, 0, 0, 0, 0, 0, 0, 0, 0, 0, 0, 0, 0, 0,...       Donut"
      ]
     },
     "execution_count": 3,
     "metadata": {},
     "output_type": "execute_result"
    }
   ],
   "source": [
    "import json\n",
    "import pandas as pd\n",
    "import gc\n",
    "\n",
    "with open('C://Users/isang/OneDrive/Desktop/WM/data/WM811K_train_padded_resized_augmented.json', 'r') as f:\n",
    "  data_aug = json.load(f)\n",
    "\n",
    "cols = data_aug['columns']\n",
    "\n",
    "dict_ = dict()\n",
    "\n",
    "for col in cols:\n",
    "  dict_[col] = list()\n",
    "\n",
    "for i in range(len(cols)):\n",
    "  for j in range(len(data_aug['data'])):\n",
    "    if i == 0:\n",
    "      dict_[cols[i]].append(data_aug['data'][j][i])\n",
    "    elif i == 1:\n",
    "      dict_[cols[i]].append(data_aug['data'][j][i])\n",
    "\n",
    "data_aug = pd.DataFrame(dict_)\n",
    "\n",
    "classes = [\"Center\", \"Donut\", \"Edge-Loc\", \"Edge-Ring\", \"Loc\", \"Near-full\", \"Random\", \"Scratch\", \"none\"]\n",
    "training_aug = [0] * 9\n",
    "\n",
    "for i in range(9):\n",
    "  training_aug[i] = data_aug[data_aug['failureType'] == classes[i]]\n",
    "  training_aug[i] = training_aug[i].reset_index(drop = True)\n",
    "\n",
    "del data_aug\n",
    "del dict_\n",
    "\n",
    "training_aug[1].head()"
   ]
  },
  {
   "cell_type": "code",
   "execution_count": 6,
   "id": "9d30c570",
   "metadata": {},
   "outputs": [
    {
     "name": "stdout",
     "output_type": "stream",
     "text": [
      "Center\n",
      "Donut\n",
      "Edge-Loc\n",
      "Edge-Ring\n",
      "Loc\n",
      "Near-full\n",
      "Random\n",
      "Scratch\n"
     ]
    }
   ],
   "source": [
    "import copy\n",
    "from PIL import Image\n",
    "import numpy as np\n",
    "\n",
    "for i in range(len(training_aug) - 1):\n",
    "  print(classes[i])\n",
    "  for j in range(len(training_aug[i]['waferMap'])):\n",
    "    img = copy.deepcopy(Image.fromarray(np.array(training_aug[i]['waferMap'][j], dtype = np.uint8)))\n",
    "    horiz_img = img.transpose(method = Image.FLIP_LEFT_RIGHT)\n",
    "    vert_img = img.transpose(method = Image.FLIP_TOP_BOTTOM)\n",
    "    rotated_img_1 = img.transpose(method = Image.ROTATE_90)\n",
    "    rotated_img_2 = img.transpose(method = Image.ROTATE_270)\n",
    "    training_aug[i].loc[training_aug[i].shape[0]] = [horiz_img, classes[i]]\n",
    "    training_aug[i].loc[training_aug[i].shape[0]] = [vert_img, classes[i]]\n",
    "    training_aug[i].loc[training_aug[i].shape[0]] = [rotated_img_1, classes[i]]\n",
    "    training_aug[i].loc[training_aug[i].shape[0]] = [rotated_img_2, classes[i]]"
   ]
  },
  {
   "cell_type": "code",
   "execution_count": 7,
   "id": "de77175b",
   "metadata": {},
   "outputs": [
    {
     "name": "stdout",
     "output_type": "stream",
     "text": [
      "Center\n"
     ]
    },
    {
     "name": "stderr",
     "output_type": "stream",
     "text": [
      "C:\\Users\\isang\\AppData\\Local\\Temp\\ipykernel_21268\\1814120189.py:4: FutureWarning: ChainedAssignmentError: behaviour will change in pandas 3.0!\n",
      "You are setting values through chained assignment. Currently this works in certain cases, but when using Copy-on-Write (which will become the default behaviour in pandas 3.0) this will never work to update the original DataFrame or Series, because the intermediate object on which we are setting values will behave as a copy.\n",
      "A typical example is when you are setting values in a column of a DataFrame, like:\n",
      "\n",
      "df[\"col\"][row_indexer] = value\n",
      "\n",
      "Use `df.loc[row_indexer, \"col\"] = values` instead, to perform the assignment in a single step and ensure this keeps updating the original `df`.\n",
      "\n",
      "See the caveats in the documentation: https://pandas.pydata.org/pandas-docs/stable/user_guide/indexing.html#returning-a-view-versus-a-copy\n",
      "\n",
      "  training_aug[i]['waferMap'][j] = np.array(training_aug[i]['waferMap'][j])\n"
     ]
    },
    {
     "name": "stdout",
     "output_type": "stream",
     "text": [
      "Donut\n",
      "Edge-Loc\n",
      "Edge-Ring\n",
      "Loc\n",
      "Near-full\n",
      "Random\n",
      "Scratch\n",
      "none\n"
     ]
    }
   ],
   "source": [
    "for i in range(len(training_aug)):\n",
    "  print(classes[i])\n",
    "  for j in range(len(training_aug[i]['waferMap'])):\n",
    "    training_aug[i]['waferMap'][j] = np.array(training_aug[i]['waferMap'][j])"
   ]
  },
  {
   "cell_type": "code",
   "execution_count": 8,
   "id": "d244a130",
   "metadata": {},
   "outputs": [],
   "source": [
    "final_train_data = pd.concat([training_aug[0],training_aug[1],training_aug[2],\n",
    "                              training_aug[3],training_aug[4],training_aug[5],\n",
    "                              training_aug[6],training_aug[7],training_aug[8]])\n",
    "del training_aug\n",
    "gc.collect()\n",
    "training_aug = pd.DataFrame()\n",
    "gc.collect()\n",
    "\n",
    "final_train_data['failureType'] = list(map(lambda x: str(x), final_train_data['failureType']))\n",
    "\n",
    "parsed = json.loads(final_train_data.to_json(orient = \"split\"))\n",
    "del final_train_data\n",
    "gc.collect()\n",
    "final_train_data = pd.DataFrame()\n",
    "gc.collect()\n",
    "\n",
    "with open('C://Users/isang/OneDrive/Desktop/WM/data/WM811K_final_train.json','w') as f:\n",
    "    json.dump(parsed, f)\n",
    "del parsed"
   ]
  },
  {
   "cell_type": "markdown",
   "id": "0f8517e4",
   "metadata": {},
   "source": [
    "## Summary "
   ]
  },
  {
   "cell_type": "code",
   "execution_count": 9,
   "id": "dc3b4ef2",
   "metadata": {},
   "outputs": [
    {
     "name": "stdout",
     "output_type": "stream",
     "text": [
      "['Center', 'Donut', 'Edge-Loc', 'Edge-Ring', 'Loc', 'Near-full', 'Random', 'Scratch', 'none']\n"
     ]
    },
    {
     "data": {
      "text/html": [
       "<div>\n",
       "<style scoped>\n",
       "    .dataframe tbody tr th:only-of-type {\n",
       "        vertical-align: middle;\n",
       "    }\n",
       "\n",
       "    .dataframe tbody tr th {\n",
       "        vertical-align: top;\n",
       "    }\n",
       "\n",
       "    .dataframe thead th {\n",
       "        text-align: right;\n",
       "    }\n",
       "</style>\n",
       "<table border=\"1\" class=\"dataframe\">\n",
       "  <thead>\n",
       "    <tr style=\"text-align: right;\">\n",
       "      <th></th>\n",
       "      <th>waferMap</th>\n",
       "      <th>failureType</th>\n",
       "    </tr>\n",
       "  </thead>\n",
       "  <tbody>\n",
       "    <tr>\n",
       "      <th>0</th>\n",
       "      <td>[[0, 0, 0, 0, 0, 0, 0, 0, 0, 0, 0, 0, 0, 0, 0,...</td>\n",
       "      <td>Center</td>\n",
       "    </tr>\n",
       "    <tr>\n",
       "      <th>1</th>\n",
       "      <td>[[0, 0, 0, 0, 0, 0, 0, 0, 0, 0, 0, 0, 0, 0, 0,...</td>\n",
       "      <td>Center</td>\n",
       "    </tr>\n",
       "    <tr>\n",
       "      <th>2</th>\n",
       "      <td>[[0, 0, 0, 0, 0, 0, 0, 0, 0, 0, 0, 0, 0, 0, 0,...</td>\n",
       "      <td>Center</td>\n",
       "    </tr>\n",
       "    <tr>\n",
       "      <th>3</th>\n",
       "      <td>[[0, 0, 0, 0, 0, 0, 0, 0, 0, 0, 0, 0, 0, 0, 0,...</td>\n",
       "      <td>Center</td>\n",
       "    </tr>\n",
       "    <tr>\n",
       "      <th>4</th>\n",
       "      <td>[[0, 0, 0, 0, 0, 0, 0, 0, 0, 0, 0, 0, 0, 0, 0,...</td>\n",
       "      <td>Center</td>\n",
       "    </tr>\n",
       "  </tbody>\n",
       "</table>\n",
       "</div>"
      ],
      "text/plain": [
       "                                            waferMap failureType\n",
       "0  [[0, 0, 0, 0, 0, 0, 0, 0, 0, 0, 0, 0, 0, 0, 0,...      Center\n",
       "1  [[0, 0, 0, 0, 0, 0, 0, 0, 0, 0, 0, 0, 0, 0, 0,...      Center\n",
       "2  [[0, 0, 0, 0, 0, 0, 0, 0, 0, 0, 0, 0, 0, 0, 0,...      Center\n",
       "3  [[0, 0, 0, 0, 0, 0, 0, 0, 0, 0, 0, 0, 0, 0, 0,...      Center\n",
       "4  [[0, 0, 0, 0, 0, 0, 0, 0, 0, 0, 0, 0, 0, 0, 0,...      Center"
      ]
     },
     "execution_count": 9,
     "metadata": {},
     "output_type": "execute_result"
    }
   ],
   "source": [
    "with open('C://Users/isang/OneDrive/Desktop/WM/data/WM811K_final_train.json', 'r') as f:\n",
    "  data = json.load(f)\n",
    "\n",
    "cols = data['columns']\n",
    "\n",
    "dict_ = dict()\n",
    "\n",
    "for col in cols:\n",
    "  dict_[col] = list()\n",
    "\n",
    "for i in range(len(cols)):\n",
    "  for j in range(len(data['data'])):\n",
    "    if i == 0:\n",
    "      dict_[cols[i]].append(data['data'][j][i])\n",
    "    elif i == 1:\n",
    "      dict_[cols[i]].append(data['data'][j][i])\n",
    "\n",
    "data = pd.DataFrame(dict_)\n",
    "\n",
    "failure_types = list(pd.unique(data['failureType']))\n",
    "\n",
    "print(failure_types)\n",
    "\n",
    "data.head()"
   ]
  },
  {
   "cell_type": "code",
   "execution_count": 10,
   "id": "d45a905e",
   "metadata": {},
   "outputs": [
    {
     "name": "stdout",
     "output_type": "stream",
     "text": [
      "[17115, 15000, 20170, 38640, 15000, 15000, 15000, 15000, 116022]\n",
      "[0.064, 0.056, 0.076, 0.145, 0.056, 0.056, 0.056, 0.056, 0.435]\n"
     ]
    }
   ],
   "source": [
    "types_image_number = list(map(lambda x: (data['failureType']==x).sum(), failure_types))\n",
    "\n",
    "types_image_proportion = list(map(lambda x: round(x/data.shape[0],3), types_image_number))\n",
    "\n",
    "print(types_image_number)\n",
    "print(types_image_proportion)"
   ]
  },
  {
   "cell_type": "code",
   "execution_count": 11,
   "id": "88970629",
   "metadata": {},
   "outputs": [
    {
     "data": {
      "image/png": "[encoded data removed]",
      "text/plain": [
       "<Figure size 640x480 with 2 Axes>"
      ]
     },
     "metadata": {},
     "output_type": "display_data"
    }
   ],
   "source": [
    "import matplotlib.pyplot as plt\n",
    "\n",
    "plt.subplot(2,1,1)\n",
    "plt.barh(failure_types, types_image_number)\n",
    "plt.xlabel('number of images per class')\n",
    "\n",
    "plt.subplot(2,1,2)\n",
    "plt.barh(failure_types, types_image_proportion)\n",
    "plt.xlabel('% of images per class')\n",
    "\n",
    "plt.tight_layout()"
   ]
  },
  {
   "cell_type": "code",
   "execution_count": 12,
   "id": "93aeb3a7",
   "metadata": {},
   "outputs": [
    {
     "data": {
      "text/plain": [
       "<BarContainer object of 2 artists>"
      ]
     },
     "execution_count": 12,
     "metadata": {},
     "output_type": "execute_result"
    },
    {
     "data": {
      "image/png": "[encoded data removed]",
      "text/plain": [
       "<Figure size 640x480 with 1 Axes>"
      ]
     },
     "metadata": {},
     "output_type": "display_data"
    }
   ],
   "source": [
    "number_failure_images = sum(types_image_number[:8])\n",
    "number_ok_images = types_image_number[8]\n",
    "\n",
    "plt.bar(['with_failure','none'],[number_failure_images,number_ok_images])"
   ]
  },
  {
   "cell_type": "code",
   "execution_count": null,
   "id": "78ce66ca",
   "metadata": {},
   "outputs": [],
   "source": []
  }
 ],
 "metadata": {
  "kernelspec": {
   "display_name": "Python 3",
   "language": "python",
   "name": "python3"
  },
  "language_info": {
   "codemirror_mode": {
    "name": "ipython",
    "version": 3
   },
   "file_extension": ".py",
   "mimetype": "text/x-python",
   "name": "python",
   "nbconvert_exporter": "python",
   "pygments_lexer": "ipython3",
   "version": "3.11.9"
  }
 },
 "nbformat": 4,
 "nbformat_minor": 5
}
